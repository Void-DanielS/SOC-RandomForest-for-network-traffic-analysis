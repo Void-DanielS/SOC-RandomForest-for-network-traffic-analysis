{
 "cells": [
  {
   "cell_type": "markdown",
   "id": "ad84497e",
   "metadata": {},
   "source": [
    "Antes importaremos estas librerías, la última linea es para cambiar un directorio más arriba y encontrar a app.utils:"
   ]
  },
  {
   "cell_type": "code",
   "execution_count": 1,
   "id": "af999c15",
   "metadata": {},
   "outputs": [],
   "source": [
    "import pandas as pd\n",
    "import matplotlib.pyplot as plt\n",
    "import seaborn as sns\n",
    "import sys\n",
    "import os\n",
    "sys.path.append(os.path.abspath(\"..\"))"
   ]
  },
  {
   "cell_type": "markdown",
   "id": "66add6c8",
   "metadata": {},
   "source": [
    "Primero, creamos los datos limpios y procesados."
   ]
  },
  {
   "cell_type": "code",
   "execution_count": 6,
   "id": "38e4be40",
   "metadata": {},
   "outputs": [],
   "source": [
    "from app.utils import cargar_y_preprocesar_dataset\n",
    "import pandas as pd\n",
    "import os\n",
    "\n",
    "# Base del proyecto (donde está este script)\n",
    "BASE_DIR = os.getcwd()\n",
    "BASE_DIR = os.path.abspath(os.path.join(os.getcwd(), \"..\"))\n",
    "\n",
    "# Rutas relativas desde la raíz del proyecto\n",
    "ruta_raw = os.path.join(BASE_DIR, \"data\", \"raw\", \"Friday-WorkingHours-Afternoon-DDos.pcap_ISCX.csv\")\n",
    "ruta_clean = os.path.join(BASE_DIR, \"data\", \"processed\", \"clean_dataset.csv\")\n",
    "ruta_maliciosos = os.path.join(BASE_DIR, \"data\", \"processed\", \"malicious_samples.csv\")\n",
    "\n",
    "# Cargar y preprocesar el dataset\n",
    "df = cargar_y_preprocesar_dataset(ruta_raw)\n",
    "df.to_csv(ruta_clean, index=False)\n",
    "\n",
    "# Cargar el dataset limpio\n",
    "df = pd.read_csv(ruta_clean)\n",
    "\n",
    "# Filtrar solo tráfico malicioso (Label = 1)\n",
    "malicious_df = df[df[\"Label\"] == 1]\n",
    "\n",
    "# Guardar como CSV para el simulador\n",
    "malicious_df.drop(\"Label\", axis=1).to_csv(ruta_maliciosos, index=False)"
   ]
  },
  {
   "cell_type": "markdown",
   "id": "3c60576f",
   "metadata": {},
   "source": [
    "Este es un primer análisis básico para comprobar que funcionó nuestra limpieza."
   ]
  },
  {
   "cell_type": "code",
   "execution_count": 7,
   "id": "f70fa7dd",
   "metadata": {},
   "outputs": [
    {
     "data": {
      "image/png": "[encoded data removed]",
      "text/plain": [
       "<Figure size 640x480 with 1 Axes>"
      ]
     },
     "metadata": {},
     "output_type": "display_data"
    }
   ],
   "source": [
    "df[\"Label\"].value_counts().plot(kind='bar', title=\"Distribución de etiquetas\")\n",
    "plt.show()"
   ]
  },
  {
   "cell_type": "markdown",
   "id": "c6cafbff",
   "metadata": {},
   "source": [
    "Perfecto, ahora creemos el clasificador pequeño y lo guardamos con joblib"
   ]
  },
  {
   "cell_type": "code",
   "execution_count": 9,
   "id": "a6a7f64d",
   "metadata": {},
   "outputs": [
    {
     "name": "stdout",
     "output_type": "stream",
     "text": [
      "              precision    recall  f1-score   support\n",
      "\n",
      "           0       1.00      1.00      1.00     19419\n",
      "           1       1.00      1.00      1.00     25724\n",
      "\n",
      "    accuracy                           1.00     45143\n",
      "   macro avg       1.00      1.00      1.00     45143\n",
      "weighted avg       1.00      1.00      1.00     45143\n",
      "\n",
      "[[19419     0]\n",
      " [    4 25720]]\n",
      "Modelo guardado correctamente en: c:\\Users\\danie\\ProyectoPACD\\models\\modelo_clasificador_trafico_red.pkl\n"
     ]
    }
   ],
   "source": [
    "from sklearn.model_selection import train_test_split\n",
    "from sklearn.ensemble import RandomForestClassifier\n",
    "from sklearn.metrics import classification_report, confusion_matrix\n",
    "import joblib\n",
    "import pandas as pd\n",
    "import numpy as np\n",
    "import os\n",
    "\n",
    "# Obtener el directorio raíz del proyecto (subiendo desde notebooks/)\n",
    "BASE_DIR = os.path.abspath(os.path.join(os.getcwd(), \"..\"))\n",
    "\n",
    "# Definir rutas absolutas basadas en la raíz del proyecto\n",
    "ruta_dataset = os.path.join(BASE_DIR, \"data\", \"processed\", \"clean_dataset.csv\")\n",
    "ruta_modelo = os.path.join(BASE_DIR, \"models\", \"modelo_clasificador_trafico_red.pkl\")\n",
    "\n",
    "# Verifica si el archivo existe antes de continuar\n",
    "if not os.path.exists(ruta_dataset):\n",
    "    raise FileNotFoundError(f\"No se encontró el dataset: {ruta_dataset}\")\n",
    "\n",
    "# Cargar dataset limpio\n",
    "df = pd.read_csv(ruta_dataset)\n",
    "\n",
    "# Separar variables y etiquetas\n",
    "X = df.drop(\"Label\", axis=1)\n",
    "y = df[\"Label\"]\n",
    "\n",
    "# Dividir en entrenamiento y prueba\n",
    "X_train, X_test, y_train, y_test = train_test_split(X, y, test_size=0.2, random_state=42)\n",
    "\n",
    "# Crear y entrenar modelo\n",
    "modelo = RandomForestClassifier(n_estimators=100, random_state=42)\n",
    "modelo.fit(X_train, y_train)\n",
    "\n",
    "# Evaluar modelo\n",
    "y_pred = modelo.predict(X_test)\n",
    "print(classification_report(y_test, y_pred))\n",
    "print(confusion_matrix(y_test, y_pred))\n",
    "\n",
    "# Guardar modelo entrenado\n",
    "joblib.dump(modelo, ruta_modelo)\n",
    "\n",
    "print(f\"Modelo guardado correctamente en: {ruta_modelo}\")"
   ]
  }
 ],
 "metadata": {
  "kernelspec": {
   "display_name": "Python 3",
   "language": "python",
   "name": "python3"
  },
  "language_info": {
   "codemirror_mode": {
    "name": "ipython",
    "version": 3
   },
   "file_extension": ".py",
   "mimetype": "text/x-python",
   "name": "python",
   "nbconvert_exporter": "python",
   "pygments_lexer": "ipython3",
   "version": "3.10.0"
  }
 },
 "nbformat": 4,
 "nbformat_minor": 5
}
